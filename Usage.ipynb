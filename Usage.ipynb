{
 "cells": [
  {
   "cell_type": "code",
   "execution_count": 1,
   "id": "3bcabf30",
   "metadata": {},
   "outputs": [],
   "source": [
    "from joblib import dump, load\n",
    "import numpy as np\n",
    "model= load('Res.joblib')"
   ]
  },
  {
   "cell_type": "code",
   "execution_count": 2,
   "id": "b4536f36",
   "metadata": {},
   "outputs": [
    {
     "data": {
      "text/plain": [
       "array([23.111])"
      ]
     },
     "execution_count": 2,
     "metadata": {},
     "output_type": "execute_result"
    }
   ],
   "source": [
    "data=np.array([[-0.83942006,  9.2628155, -11.12165014, -10.27288841, -11.42262747,\n",
    "       -0.4141041, -3.1238772,  4.61111401, -11.0016859 , -10.5778192 ,\n",
    "       -0.90491834,  0.91164221, -0.86091034]])\n",
    "model.predict(data)"
   ]
  },
  {
   "cell_type": "code",
   "execution_count": null,
   "id": "a222d934",
   "metadata": {},
   "outputs": [],
   "source": []
  }
 ],
 "metadata": {
  "kernelspec": {
   "display_name": "Python 3",
   "language": "python",
   "name": "python3"
  },
  "language_info": {
   "codemirror_mode": {
    "name": "ipython",
    "version": 3
   },
   "file_extension": ".py",
   "mimetype": "text/x-python",
   "name": "python",
   "nbconvert_exporter": "python",
   "pygments_lexer": "ipython3",
   "version": "3.8.8"
  }
 },
 "nbformat": 4,
 "nbformat_minor": 5
}
